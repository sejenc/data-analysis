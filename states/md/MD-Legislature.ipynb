{
 "cells": [
  {
   "cell_type": "code",
   "execution_count": 2,
   "metadata": {},
   "outputs": [],
   "source": [
    "import pandas as pd\n",
    "import requests"
   ]
  },
  {
   "cell_type": "code",
   "execution_count": 3,
   "metadata": {},
   "outputs": [],
   "source": [
    "url = 'http://mgaleg.maryland.gov/2021rs/misc/billsmasterlist/legislation.json'"
   ]
  },
  {
   "cell_type": "code",
   "execution_count": 8,
   "metadata": {},
   "outputs": [],
   "source": [
    "res = requests.get(url)\n",
    "json_str = res.text"
   ]
  },
  {
   "cell_type": "code",
   "execution_count": 9,
   "metadata": {},
   "outputs": [],
   "source": [
    "df = pd.read_json(json_str)"
   ]
  },
  {
   "cell_type": "code",
   "execution_count": 11,
   "metadata": {},
   "outputs": [
    {
     "data": {
      "text/plain": [
       "(781, 41)"
      ]
     },
     "execution_count": 11,
     "metadata": {},
     "output_type": "execute_result"
    }
   ],
   "source": [
    "df.shape"
   ]
  },
  {
   "cell_type": "code",
   "execution_count": 13,
   "metadata": {},
   "outputs": [
    {
     "data": {
      "text/html": [
       "<div>\n",
       "<style scoped>\n",
       "    .dataframe tbody tr th:only-of-type {\n",
       "        vertical-align: middle;\n",
       "    }\n",
       "\n",
       "    .dataframe tbody tr th {\n",
       "        vertical-align: top;\n",
       "    }\n",
       "\n",
       "    .dataframe thead th {\n",
       "        text-align: right;\n",
       "    }\n",
       "</style>\n",
       "<table border=\"1\" class=\"dataframe\">\n",
       "  <thead>\n",
       "    <tr style=\"text-align: right;\">\n",
       "      <th></th>\n",
       "      <th>BillNumber</th>\n",
       "      <th>ChapterNumber</th>\n",
       "      <th>CrossfileBillNumber</th>\n",
       "      <th>SponsorPrimary</th>\n",
       "      <th>Sponsors</th>\n",
       "      <th>Synopsis</th>\n",
       "      <th>Title</th>\n",
       "      <th>Status</th>\n",
       "      <th>CommitteePrimaryOrigin</th>\n",
       "      <th>CommitteeSecondaryOrigin</th>\n",
       "      <th>...</th>\n",
       "      <th>PassedByMGA</th>\n",
       "      <th>EmergencyBill</th>\n",
       "      <th>ConstitutionalAmendment</th>\n",
       "      <th>BroadSubjects</th>\n",
       "      <th>NarrowSubjects</th>\n",
       "      <th>BillType</th>\n",
       "      <th>BillVersion</th>\n",
       "      <th>Statutes</th>\n",
       "      <th>YearAndSession</th>\n",
       "      <th>StatusCurrentAsOf</th>\n",
       "    </tr>\n",
       "  </thead>\n",
       "  <tbody>\n",
       "    <tr>\n",
       "      <th>0</th>\n",
       "      <td>HB0001</td>\n",
       "      <td></td>\n",
       "      <td>SB0001</td>\n",
       "      <td>Speaker</td>\n",
       "      <td>[{'Name': 'Speaker'}]</td>\n",
       "      <td></td>\n",
       "      <td>Historically Black Colleges and Universities -...</td>\n",
       "      <td>In the House - First Reading Appropriations</td>\n",
       "      <td>Appropriations</td>\n",
       "      <td></td>\n",
       "      <td>...</td>\n",
       "      <td>False</td>\n",
       "      <td>True</td>\n",
       "      <td>False</td>\n",
       "      <td>[{'Code': 'f2', 'Name': 'Higher Education'}]</td>\n",
       "      <td>NaN</td>\n",
       "      <td>Pre-Filed</td>\n",
       "      <td>F</td>\n",
       "      <td>[{'Article': {'Code': 'ged', 'Title': 'Educati...</td>\n",
       "      <td>2021 Regular Session</td>\n",
       "      <td>2021-01-02T12:00:01.690</td>\n",
       "    </tr>\n",
       "    <tr>\n",
       "      <th>1</th>\n",
       "      <td>HB0002</td>\n",
       "      <td></td>\n",
       "      <td>SB0002</td>\n",
       "      <td>Delegate Korman</td>\n",
       "      <td>[{'Name': 'Delegate Korman'}]</td>\n",
       "      <td></td>\n",
       "      <td>Maryland Environmental Service Reform Act of 2021</td>\n",
       "      <td>In the House - First Reading Appropriations an...</td>\n",
       "      <td>Appropriations</td>\n",
       "      <td>Environment and Transportation</td>\n",
       "      <td>...</td>\n",
       "      <td>False</td>\n",
       "      <td>False</td>\n",
       "      <td>False</td>\n",
       "      <td>[{'Code': 'p1', 'Name': 'State Government - Ag...</td>\n",
       "      <td>NaN</td>\n",
       "      <td>Pre-Filed</td>\n",
       "      <td>F</td>\n",
       "      <td>[{'Article': {'Code': 'gnr', 'Title': 'Natural...</td>\n",
       "      <td>2021 Regular Session</td>\n",
       "      <td>2021-01-02T12:00:01.690</td>\n",
       "    </tr>\n",
       "    <tr>\n",
       "      <th>2</th>\n",
       "      <td>HB0003</td>\n",
       "      <td></td>\n",
       "      <td></td>\n",
       "      <td>Delegate Clippinger</td>\n",
       "      <td>[{'Name': 'Delegate Clippinger'}, {'Name': 'De...</td>\n",
       "      <td></td>\n",
       "      <td>Correctional Services - Parole - Life Imprison...</td>\n",
       "      <td>In the House - Hearing 1/18 at 1:30 p.m.</td>\n",
       "      <td>Judiciary</td>\n",
       "      <td></td>\n",
       "      <td>...</td>\n",
       "      <td>False</td>\n",
       "      <td>False</td>\n",
       "      <td>False</td>\n",
       "      <td>[{'Code': 'e2', 'Name': 'Criminal Law - Proced...</td>\n",
       "      <td>NaN</td>\n",
       "      <td>Pre-Filed</td>\n",
       "      <td>F</td>\n",
       "      <td>None</td>\n",
       "      <td>2021 Regular Session</td>\n",
       "      <td>2021-01-02T12:00:01.690</td>\n",
       "    </tr>\n",
       "    <tr>\n",
       "      <th>3</th>\n",
       "      <td>HB0004</td>\n",
       "      <td></td>\n",
       "      <td></td>\n",
       "      <td>Delegate Grammer</td>\n",
       "      <td>[{'Name': 'Delegate Grammer'}]</td>\n",
       "      <td></td>\n",
       "      <td>Baltimore County - Career Exploration and Deve...</td>\n",
       "      <td>In the House - Hearing 1/20 at 1:30 p.m.</td>\n",
       "      <td>Ways and Means</td>\n",
       "      <td></td>\n",
       "      <td>...</td>\n",
       "      <td>False</td>\n",
       "      <td>False</td>\n",
       "      <td>False</td>\n",
       "      <td>[{'Code': 'f3', 'Name': 'Education - Local Bil...</td>\n",
       "      <td>NaN</td>\n",
       "      <td>Pre-Filed</td>\n",
       "      <td>F</td>\n",
       "      <td>None</td>\n",
       "      <td>2021 Regular Session</td>\n",
       "      <td>2021-01-02T12:00:01.690</td>\n",
       "    </tr>\n",
       "    <tr>\n",
       "      <th>4</th>\n",
       "      <td>HB0005</td>\n",
       "      <td></td>\n",
       "      <td>SB0192</td>\n",
       "      <td>Delegate Krebs</td>\n",
       "      <td>[{'Name': 'Delegate Krebs'}]</td>\n",
       "      <td></td>\n",
       "      <td>Cemeteries - Perpetual Care - Distribution Fro...</td>\n",
       "      <td>In the House - Hearing 1/21 at 1:30 p.m.</td>\n",
       "      <td>Health and Government Operations</td>\n",
       "      <td></td>\n",
       "      <td>...</td>\n",
       "      <td>False</td>\n",
       "      <td>False</td>\n",
       "      <td>False</td>\n",
       "      <td>[{'Code': 'c2', 'Name': 'Business Regulation a...</td>\n",
       "      <td>NaN</td>\n",
       "      <td>Pre-Filed</td>\n",
       "      <td>F</td>\n",
       "      <td>[{'Article': {'Code': 'gbr', 'Title': 'Busines...</td>\n",
       "      <td>2021 Regular Session</td>\n",
       "      <td>2021-01-02T12:00:01.690</td>\n",
       "    </tr>\n",
       "  </tbody>\n",
       "</table>\n",
       "<p>5 rows × 41 columns</p>\n",
       "</div>"
      ],
      "text/plain": [
       "  BillNumber ChapterNumber CrossfileBillNumber       SponsorPrimary  \\\n",
       "0     HB0001                            SB0001              Speaker   \n",
       "1     HB0002                            SB0002      Delegate Korman   \n",
       "2     HB0003                                    Delegate Clippinger   \n",
       "3     HB0004                                       Delegate Grammer   \n",
       "4     HB0005                            SB0192       Delegate Krebs   \n",
       "\n",
       "                                            Sponsors Synopsis  \\\n",
       "0                              [{'Name': 'Speaker'}]            \n",
       "1                      [{'Name': 'Delegate Korman'}]            \n",
       "2  [{'Name': 'Delegate Clippinger'}, {'Name': 'De...            \n",
       "3                     [{'Name': 'Delegate Grammer'}]            \n",
       "4                       [{'Name': 'Delegate Krebs'}]            \n",
       "\n",
       "                                               Title  \\\n",
       "0  Historically Black Colleges and Universities -...   \n",
       "1  Maryland Environmental Service Reform Act of 2021   \n",
       "2  Correctional Services - Parole - Life Imprison...   \n",
       "3  Baltimore County - Career Exploration and Deve...   \n",
       "4  Cemeteries - Perpetual Care - Distribution Fro...   \n",
       "\n",
       "                                              Status  \\\n",
       "0        In the House - First Reading Appropriations   \n",
       "1  In the House - First Reading Appropriations an...   \n",
       "2           In the House - Hearing 1/18 at 1:30 p.m.   \n",
       "3           In the House - Hearing 1/20 at 1:30 p.m.   \n",
       "4           In the House - Hearing 1/21 at 1:30 p.m.   \n",
       "\n",
       "             CommitteePrimaryOrigin        CommitteeSecondaryOrigin  ...  \\\n",
       "0                    Appropriations                                  ...   \n",
       "1                    Appropriations  Environment and Transportation  ...   \n",
       "2                         Judiciary                                  ...   \n",
       "3                    Ways and Means                                  ...   \n",
       "4  Health and Government Operations                                  ...   \n",
       "\n",
       "  PassedByMGA EmergencyBill ConstitutionalAmendment  \\\n",
       "0       False          True                   False   \n",
       "1       False         False                   False   \n",
       "2       False         False                   False   \n",
       "3       False         False                   False   \n",
       "4       False         False                   False   \n",
       "\n",
       "                                       BroadSubjects NarrowSubjects  \\\n",
       "0       [{'Code': 'f2', 'Name': 'Higher Education'}]            NaN   \n",
       "1  [{'Code': 'p1', 'Name': 'State Government - Ag...            NaN   \n",
       "2  [{'Code': 'e2', 'Name': 'Criminal Law - Proced...            NaN   \n",
       "3  [{'Code': 'f3', 'Name': 'Education - Local Bil...            NaN   \n",
       "4  [{'Code': 'c2', 'Name': 'Business Regulation a...            NaN   \n",
       "\n",
       "    BillType BillVersion                                           Statutes  \\\n",
       "0  Pre-Filed           F  [{'Article': {'Code': 'ged', 'Title': 'Educati...   \n",
       "1  Pre-Filed           F  [{'Article': {'Code': 'gnr', 'Title': 'Natural...   \n",
       "2  Pre-Filed           F                                               None   \n",
       "3  Pre-Filed           F                                               None   \n",
       "4  Pre-Filed           F  [{'Article': {'Code': 'gbr', 'Title': 'Busines...   \n",
       "\n",
       "         YearAndSession        StatusCurrentAsOf  \n",
       "0  2021 Regular Session  2021-01-02T12:00:01.690  \n",
       "1  2021 Regular Session  2021-01-02T12:00:01.690  \n",
       "2  2021 Regular Session  2021-01-02T12:00:01.690  \n",
       "3  2021 Regular Session  2021-01-02T12:00:01.690  \n",
       "4  2021 Regular Session  2021-01-02T12:00:01.690  \n",
       "\n",
       "[5 rows x 41 columns]"
      ]
     },
     "execution_count": 13,
     "metadata": {},
     "output_type": "execute_result"
    }
   ],
   "source": [
    "df.head()"
   ]
  },
  {
   "cell_type": "code",
   "execution_count": 30,
   "metadata": {},
   "outputs": [],
   "source": [
    "sponsor = 'SponsorPrimary'\n",
    "committee_origin = 'CommitteePrimaryOrigin'"
   ]
  },
  {
   "cell_type": "code",
   "execution_count": 14,
   "metadata": {},
   "outputs": [
    {
     "data": {
      "text/plain": [
       "Education, Health, and Environmental Affairs    125\n",
       "Judicial Proceedings                            103\n",
       "Judiciary                                        95\n",
       "Ways and Means                                   89\n",
       "Finance                                          84\n",
       "Environment and Transportation                   80\n",
       "Health and Government Operations                 66\n",
       "Economic Matters                                 53\n",
       "Budget and Taxation                              47\n",
       "Appropriations                                   34\n",
       "Rules and Executive Nominations                   5\n",
       "Name: CommitteePrimaryOrigin, dtype: int64"
      ]
     },
     "execution_count": 14,
     "metadata": {},
     "output_type": "execute_result"
    }
   ],
   "source": [
    "df['CommitteePrimaryOrigin'].value_counts()"
   ]
  },
  {
   "cell_type": "code",
   "execution_count": 37,
   "metadata": {},
   "outputs": [
    {
     "ename": "KeyError",
     "evalue": "\"None of [Index(['Speaker', 'Delegate Korman', 'Delegate Clippinger', 'Delegate Grammer',\\n       'Delegate Krebs', 'Delegate Feldmark', 'Delegate Luedtke',\\n       'Delegate Krimm', 'Delegate Shetty', 'Delegate Young, K.',\\n       ...\\n       'Chair, Education, Health, and Environmental Affairs Committee',\\n       'Chair, Education, Health, and Environmental Affairs Committee',\\n       'Chair, Education, Health, and Environmental Affairs Committee',\\n       'Chair, Education, Health, and Environmental Affairs Committee',\\n       'Senator Carozza', 'Senator Bailey', 'Senator Kelley', 'Senator Ellis',\\n       'Senator Reilly', 'Senator Guzzone'],\\n      dtype='object', length=781)] are in the [columns]\"",
     "output_type": "error",
     "traceback": [
      "\u001b[0;31m---------------------------------------------------------------------------\u001b[0m",
      "\u001b[0;31mKeyError\u001b[0m                                  Traceback (most recent call last)",
      "\u001b[0;32m<ipython-input-37-b6d5ece69d1b>\u001b[0m in \u001b[0;36m<module>\u001b[0;34m\u001b[0m\n\u001b[0;32m----> 1\u001b[0;31m \u001b[0mdf\u001b[0m\u001b[0;34m[\u001b[0m\u001b[0mdf\u001b[0m\u001b[0;34m[\u001b[0m\u001b[0msponsor\u001b[0m\u001b[0;34m]\u001b[0m\u001b[0;34m]\u001b[0m\u001b[0;34m.\u001b[0m\u001b[0mhead\u001b[0m\u001b[0;34m(\u001b[0m\u001b[0;36m1\u001b[0m\u001b[0;34m)\u001b[0m\u001b[0;34m.\u001b[0m\u001b[0mvalue_counts\u001b[0m\u001b[0;34m(\u001b[0m\u001b[0;34m)\u001b[0m\u001b[0;34m\u001b[0m\u001b[0;34m\u001b[0m\u001b[0m\n\u001b[0m",
      "\u001b[0;32m~/anaconda3/lib/python3.6/site-packages/pandas/core/frame.py\u001b[0m in \u001b[0;36m__getitem__\u001b[0;34m(self, key)\u001b[0m\n\u001b[1;32m   2804\u001b[0m             \u001b[0;32mif\u001b[0m \u001b[0mis_iterator\u001b[0m\u001b[0;34m(\u001b[0m\u001b[0mkey\u001b[0m\u001b[0;34m)\u001b[0m\u001b[0;34m:\u001b[0m\u001b[0;34m\u001b[0m\u001b[0;34m\u001b[0m\u001b[0m\n\u001b[1;32m   2805\u001b[0m                 \u001b[0mkey\u001b[0m \u001b[0;34m=\u001b[0m \u001b[0mlist\u001b[0m\u001b[0;34m(\u001b[0m\u001b[0mkey\u001b[0m\u001b[0;34m)\u001b[0m\u001b[0;34m\u001b[0m\u001b[0;34m\u001b[0m\u001b[0m\n\u001b[0;32m-> 2806\u001b[0;31m             \u001b[0mindexer\u001b[0m \u001b[0;34m=\u001b[0m \u001b[0mself\u001b[0m\u001b[0;34m.\u001b[0m\u001b[0mloc\u001b[0m\u001b[0;34m.\u001b[0m\u001b[0m_get_listlike_indexer\u001b[0m\u001b[0;34m(\u001b[0m\u001b[0mkey\u001b[0m\u001b[0;34m,\u001b[0m \u001b[0maxis\u001b[0m\u001b[0;34m=\u001b[0m\u001b[0;36m1\u001b[0m\u001b[0;34m,\u001b[0m \u001b[0mraise_missing\u001b[0m\u001b[0;34m=\u001b[0m\u001b[0;32mTrue\u001b[0m\u001b[0;34m)\u001b[0m\u001b[0;34m[\u001b[0m\u001b[0;36m1\u001b[0m\u001b[0;34m]\u001b[0m\u001b[0;34m\u001b[0m\u001b[0;34m\u001b[0m\u001b[0m\n\u001b[0m\u001b[1;32m   2807\u001b[0m \u001b[0;34m\u001b[0m\u001b[0m\n\u001b[1;32m   2808\u001b[0m         \u001b[0;31m# take() does not accept boolean indexers\u001b[0m\u001b[0;34m\u001b[0m\u001b[0;34m\u001b[0m\u001b[0;34m\u001b[0m\u001b[0m\n",
      "\u001b[0;32m~/anaconda3/lib/python3.6/site-packages/pandas/core/indexing.py\u001b[0m in \u001b[0;36m_get_listlike_indexer\u001b[0;34m(self, key, axis, raise_missing)\u001b[0m\n\u001b[1;32m   1551\u001b[0m \u001b[0;34m\u001b[0m\u001b[0m\n\u001b[1;32m   1552\u001b[0m         self._validate_read_indexer(\n\u001b[0;32m-> 1553\u001b[0;31m             \u001b[0mkeyarr\u001b[0m\u001b[0;34m,\u001b[0m \u001b[0mindexer\u001b[0m\u001b[0;34m,\u001b[0m \u001b[0mo\u001b[0m\u001b[0;34m.\u001b[0m\u001b[0m_get_axis_number\u001b[0m\u001b[0;34m(\u001b[0m\u001b[0maxis\u001b[0m\u001b[0;34m)\u001b[0m\u001b[0;34m,\u001b[0m \u001b[0mraise_missing\u001b[0m\u001b[0;34m=\u001b[0m\u001b[0mraise_missing\u001b[0m\u001b[0;34m\u001b[0m\u001b[0;34m\u001b[0m\u001b[0m\n\u001b[0m\u001b[1;32m   1554\u001b[0m         )\n\u001b[1;32m   1555\u001b[0m         \u001b[0;32mreturn\u001b[0m \u001b[0mkeyarr\u001b[0m\u001b[0;34m,\u001b[0m \u001b[0mindexer\u001b[0m\u001b[0;34m\u001b[0m\u001b[0;34m\u001b[0m\u001b[0m\n",
      "\u001b[0;32m~/anaconda3/lib/python3.6/site-packages/pandas/core/indexing.py\u001b[0m in \u001b[0;36m_validate_read_indexer\u001b[0;34m(self, key, indexer, axis, raise_missing)\u001b[0m\n\u001b[1;32m   1638\u001b[0m             \u001b[0;32mif\u001b[0m \u001b[0mmissing\u001b[0m \u001b[0;34m==\u001b[0m \u001b[0mlen\u001b[0m\u001b[0;34m(\u001b[0m\u001b[0mindexer\u001b[0m\u001b[0;34m)\u001b[0m\u001b[0;34m:\u001b[0m\u001b[0;34m\u001b[0m\u001b[0;34m\u001b[0m\u001b[0m\n\u001b[1;32m   1639\u001b[0m                 \u001b[0maxis_name\u001b[0m \u001b[0;34m=\u001b[0m \u001b[0mself\u001b[0m\u001b[0;34m.\u001b[0m\u001b[0mobj\u001b[0m\u001b[0;34m.\u001b[0m\u001b[0m_get_axis_name\u001b[0m\u001b[0;34m(\u001b[0m\u001b[0maxis\u001b[0m\u001b[0;34m)\u001b[0m\u001b[0;34m\u001b[0m\u001b[0;34m\u001b[0m\u001b[0m\n\u001b[0;32m-> 1640\u001b[0;31m                 \u001b[0;32mraise\u001b[0m \u001b[0mKeyError\u001b[0m\u001b[0;34m(\u001b[0m\u001b[0;34mf\"None of [{key}] are in the [{axis_name}]\"\u001b[0m\u001b[0;34m)\u001b[0m\u001b[0;34m\u001b[0m\u001b[0;34m\u001b[0m\u001b[0m\n\u001b[0m\u001b[1;32m   1641\u001b[0m \u001b[0;34m\u001b[0m\u001b[0m\n\u001b[1;32m   1642\u001b[0m             \u001b[0;31m# We (temporarily) allow for some missing keys with .loc, except in\u001b[0m\u001b[0;34m\u001b[0m\u001b[0;34m\u001b[0m\u001b[0;34m\u001b[0m\u001b[0m\n",
      "\u001b[0;31mKeyError\u001b[0m: \"None of [Index(['Speaker', 'Delegate Korman', 'Delegate Clippinger', 'Delegate Grammer',\\n       'Delegate Krebs', 'Delegate Feldmark', 'Delegate Luedtke',\\n       'Delegate Krimm', 'Delegate Shetty', 'Delegate Young, K.',\\n       ...\\n       'Chair, Education, Health, and Environmental Affairs Committee',\\n       'Chair, Education, Health, and Environmental Affairs Committee',\\n       'Chair, Education, Health, and Environmental Affairs Committee',\\n       'Chair, Education, Health, and Environmental Affairs Committee',\\n       'Senator Carozza', 'Senator Bailey', 'Senator Kelley', 'Senator Ellis',\\n       'Senator Reilly', 'Senator Guzzone'],\\n      dtype='object', length=781)] are in the [columns]\""
     ]
    }
   ],
   "source": [
    "df[df[sponsor]].head(1).value_counts()"
   ]
  },
  {
   "cell_type": "code",
   "execution_count": 26,
   "metadata": {},
   "outputs": [
    {
     "data": {
      "text/plain": [
       "(276, 41)"
      ]
     },
     "execution_count": 26,
     "metadata": {},
     "output_type": "execute_result"
    }
   ],
   "source": [
    "df[df.CrossfileBillNumber = ''].shape"
   ]
  },
  {
   "cell_type": "code",
   "execution_count": null,
   "metadata": {},
   "outputs": [],
   "source": []
  }
 ],
 "metadata": {
  "kernelspec": {
   "display_name": "Python 3",
   "language": "python",
   "name": "python3"
  },
  "language_info": {
   "codemirror_mode": {
    "name": "ipython",
    "version": 3
   },
   "file_extension": ".py",
   "mimetype": "text/x-python",
   "name": "python",
   "nbconvert_exporter": "python",
   "pygments_lexer": "ipython3",
   "version": "3.6.10"
  }
 },
 "nbformat": 4,
 "nbformat_minor": 4
}
